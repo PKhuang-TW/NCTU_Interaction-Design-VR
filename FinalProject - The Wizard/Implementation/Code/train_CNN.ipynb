{
 "cells": [
  {
   "cell_type": "code",
   "execution_count": 24,
   "metadata": {},
   "outputs": [],
   "source": [
    "# 導入函式庫\n",
    "import numpy as np\n",
    "import tensorflow\n",
    "from keras.models import Sequential\n",
    "from keras.datasets import mnist\n",
    "from keras.layers import Dense, Dropout, Activation, Flatten\n",
    "from keras.utils import np_utils  # 用來後續將 label 標籤轉為 one-hot-encoding  \n",
    "from matplotlib import pyplot as plt\n",
    "\n",
    "import keras\n",
    "from keras.models import Sequential\n",
    "from keras.layers import Conv2D, MaxPooling2D\n",
    "from keras.layers import Activation, Dropout, Flatten, Dense\n",
    "\n",
    "from PIL import Image\n",
    "from keras.preprocessing.image import ImageDataGenerator, array_to_img, img_to_array, load_img"
   ]
  },
  {
   "cell_type": "code",
   "execution_count": 25,
   "metadata": {},
   "outputs": [
    {
     "name": "stdout",
     "output_type": "stream",
     "text": [
      "1.12.0\n"
     ]
    }
   ],
   "source": [
    "print(tensorflow.__version__)"
   ]
  },
  {
   "cell_type": "code",
   "execution_count": 2,
   "metadata": {},
   "outputs": [],
   "source": [
    "# # 載入 MNIST 資料庫的訓練資料，並自動分為『訓練組』及『測試組』\n",
    "# (X_train, y_train), (X_test, y_test) = mnist.load_data()"
   ]
  },
  {
   "cell_type": "code",
   "execution_count": 3,
   "metadata": {},
   "outputs": [],
   "source": [
    "# print(X_train.shape)"
   ]
  },
  {
   "cell_type": "code",
   "execution_count": 4,
   "metadata": {},
   "outputs": [],
   "source": [
    "# print(y_train)"
   ]
  },
  {
   "cell_type": "code",
   "execution_count": 5,
   "metadata": {},
   "outputs": [],
   "source": [
    "# # 建立簡單的線性執行的模型\n",
    "# model = Sequential()\n",
    "# # Add Input layer, 隱藏層(hidden layer) 有 256個輸出變數\n",
    "# model.add(Dense(units=256, input_dim=784, kernel_initializer='normal', activation='relu')) \n",
    "# # Add output layer\n",
    "# model.add(Dense(units=10, kernel_initializer='normal', activation='softmax'))\n",
    "\n",
    "# # 編譯: 選擇損失函數、優化方法及成效衡量方式\n",
    "# model.compile(loss='categorical_crossentropy', optimizer='adam', metrics=['accuracy']) \n",
    "\n",
    "# # 將 training 的 label 進行 one-hot encoding，例如數字 7 經過 One-hot encoding 轉換後是 0000001000，即第7個值為 1\n",
    "# y_TrainOneHot = np_utils.to_categorical(y_train) \n",
    "# y_TestOneHot = np_utils.to_categorical(y_test) \n",
    "\n",
    "# # 將 training 的 input 資料轉為2維\n",
    "# X_train_2D = X_train.reshape(60000, 28*28).astype('float32')  \n",
    "# X_test_2D = X_test.reshape(10000, 28*28).astype('float32')  \n",
    "\n",
    "# x_Train_norm = X_train_2D/255\n",
    "# x_Test_norm = X_test_2D/255\n",
    "\n",
    "# # 進行訓練, 訓練過程會存在 train_history 變數中\n",
    "# train_history = model.fit(x=x_Train_norm, y=y_TrainOneHot, validation_split=0.2, epochs=10, batch_size=800, verbose=2)  \n",
    "\n",
    "# # 顯示訓練成果(分數)\n",
    "# scores = model.evaluate(x_Test_norm, y_TestOneHot)  \n",
    "# print()  \n",
    "# print(\"\\t[Info] Accuracy of testing data = {:2.1f}%\".format(scores[1]*100.0))  \n",
    "\n",
    "# # 預測(prediction)\n",
    "# X = x_Test_norm[0:10,:]\n",
    "# predictions = model.predict_classes(X)\n",
    "# # get prediction result\n",
    "# print(predictions)"
   ]
  },
  {
   "cell_type": "code",
   "execution_count": 6,
   "metadata": {
    "scrolled": false
   },
   "outputs": [
    {
     "name": "stdout",
     "output_type": "stream",
     "text": [
      "_________________________________________________________________\n",
      "Layer (type)                 Output Shape              Param #   \n",
      "=================================================================\n",
      "conv2d_1 (Conv2D)            (None, 32, 32, 32)        896       \n",
      "_________________________________________________________________\n",
      "conv2d_2 (Conv2D)            (None, 16, 16, 64)        18496     \n",
      "_________________________________________________________________\n",
      "conv2d_3 (Conv2D)            (None, 8, 8, 64)          36928     \n",
      "_________________________________________________________________\n",
      "conv2d_4 (Conv2D)            (None, 4, 4, 64)          36928     \n",
      "_________________________________________________________________\n",
      "average_pooling2d_1 (Average (None, 2, 2, 64)          0         \n",
      "_________________________________________________________________\n",
      "flatten_1 (Flatten)          (None, 256)               0         \n",
      "_________________________________________________________________\n",
      "dense_1 (Dense)              (None, 5)                 1285      \n",
      "=================================================================\n",
      "Total params: 94,533\n",
      "Trainable params: 94,533\n",
      "Non-trainable params: 0\n",
      "_________________________________________________________________\n"
     ]
    }
   ],
   "source": [
    "model = Sequential()\n",
    "# 64x64 -> 32x32\n",
    "model.add(Conv2D(32, (3, 3), input_shape=(64, 64, 3), strides=2, activation='relu', padding='same'))\n",
    "\n",
    "# 32x32 -> 16x16\n",
    "#model.add(Conv2D(16, (1, 1), activation='relu', padding='same'))\n",
    "model.add(Conv2D(64, (3, 3), strides=2, activation='relu', padding='same'))\n",
    "\n",
    "# 16x16 -> 8x8\n",
    "#model.add(Conv2D(32, (1, 1), activation='relu', padding='same'))\n",
    "model.add(Conv2D(64, (3, 3), strides=2, activation='relu', padding='same'))\n",
    "\n",
    "# 8x8 -> 4x4\n",
    "#model.add(Conv2D(32, (1, 1), activation='relu', padding='same'))\n",
    "model.add(Conv2D(64, (3, 3), strides=2, activation='relu', padding='same'))\n",
    "\n",
    "# 4x4 -> 1x1\n",
    "model.add(keras.layers.pooling.AveragePooling2D(pool_size=(2,2)))\n",
    "\n",
    "# flatten and fc\n",
    "model.add(Flatten())\n",
    "model.add(Dense(5, activation='softmax'))\n",
    "\n",
    "#adam = keras.optimizers.Adam(lr=0.001, beta_1=0.9, beta_2=0.999, epsilon=1e-08)\n",
    "\n",
    "model.compile(loss='categorical_crossentropy',\n",
    "              optimizer='adam',\n",
    "              metrics=['accuracy'])\n",
    "\n",
    "model.summary()"
   ]
  },
  {
   "cell_type": "markdown",
   "metadata": {},
   "source": [
    "---"
   ]
  },
  {
   "cell_type": "code",
   "execution_count": 7,
   "metadata": {},
   "outputs": [
    {
     "name": "stdout",
     "output_type": "stream",
     "text": [
      "Found 471 images belonging to 5 classes.\n",
      "Found 51 images belonging to 5 classes.\n",
      "Epoch 1/1\n",
      "100/100 [==============================] - 15s 151ms/step - loss: 1.5163 - acc: 0.2386 - val_loss: 1.4970 - val_acc: 0.2549\n"
     ]
    }
   ],
   "source": [
    "# train_datagen = ImageDataGenerator(\n",
    "#         rotation_range=180,\n",
    "#         rescale=1./255,\n",
    "#         shear_range=0.2,\n",
    "#         zoom_range=0.2,\n",
    "#         horizontal_flip=True,\n",
    "#         validation_split = 0.1)\n",
    "\n",
    "# test_datagen = ImageDataGenerator(        \n",
    "#             rotation_range=180,\n",
    "#             rescale=1./255,\n",
    "#             shear_range=0.2,\n",
    "#             zoom_range=0.2,\n",
    "#             horizontal_flip=True,\n",
    "#             validation_split = 0.1\n",
    "# )\n",
    "\n",
    "\n",
    "data_gen = ImageDataGenerator(   \n",
    "        rotation_range=180,\n",
    "        rescale=1./255,\n",
    "        shear_range=0.2,\n",
    "        zoom_range=0.2,\n",
    "        horizontal_flip=True,\n",
    "        validation_split = 0.1)\n",
    "\n",
    "dir_path = '/Users/huang/Desktop/IDVR_final/TrainTest/train'\n",
    "batch_size = 32\n",
    "\n",
    "train_generator = data_gen.flow_from_directory(dir_path,\n",
    "                                               target_size=(64, 64),\n",
    "                                               batch_size=batch_size,\n",
    "                                               class_mode='categorical', subset='training')\n",
    "\n",
    "validation_generator = data_gen.flow_from_directory(dir_path,\n",
    "                                               target_size=(64, 64),\n",
    "                                               batch_size=batch_size,\n",
    "                                               class_mode='categorical', subset='validation')\n",
    "\n",
    "# train_generator = train_datagen.flow_from_directory(\n",
    "#         '/Users/huang/Desktop/IDVR_final/TrainTest/train',\n",
    "#         target_size=(64, 64),\n",
    "#         batch_size=32,\n",
    "#         class_mode='categorical')\n",
    "\n",
    "# validation_generator = test_datagen.flow_from_directory(\n",
    "#         '/Users/huang/Desktop/IDVR_final/TrainTest/validation',\n",
    "#         target_size=(64, 64),\n",
    "#         batch_size=32,\n",
    "#         class_mode='categorical')\n",
    "\n",
    "history = model.fit_generator(\n",
    "        train_generator,\n",
    "        steps_per_epoch=100,\n",
    "        validation_data=validation_generator,\n",
    "        validation_steps = 10,\n",
    "#         epochs=23,\n",
    "        epochs=1\n",
    "#         validation_data=validation_generator,\n",
    "#         validation_steps=800\n",
    "        )"
   ]
  },
  {
   "cell_type": "code",
   "execution_count": 8,
   "metadata": {},
   "outputs": [],
   "source": [
    "# model_name = 'model_ver3.h5'\n",
    "# model.save('/Users/huang/Desktop/IDVR_final/model/' + model_name)"
   ]
  },
  {
   "cell_type": "code",
   "execution_count": 22,
   "metadata": {},
   "outputs": [
    {
     "name": "stdout",
     "output_type": "stream",
     "text": [
      "20181227_ver3\n"
     ]
    }
   ],
   "source": [
    "import datetime\n",
    "import os\n",
    "from pathlib import Path\n",
    "count = 1\n",
    "model_name = str(datetime.date.today())\n",
    "model_name = ''.join(model_name.split('-')) + '_ver' + str(count)\n",
    "\n",
    "while( Path('/Users/huang/Desktop/IDVR_final/model/' + model_name+ '.h5').exists() ):\n",
    "    count += 1\n",
    "    model_name = model_name[:-1] + str(count)\n",
    "print(model_name)\n",
    "model.save('/Users/huang/Desktop/IDVR_final/model/' + model_name + '.h5')"
   ]
  }
 ],
 "metadata": {
  "kernelspec": {
   "display_name": "Python 3",
   "language": "python",
   "name": "python3"
  },
  "language_info": {
   "codemirror_mode": {
    "name": "ipython",
    "version": 3
   },
   "file_extension": ".py",
   "mimetype": "text/x-python",
   "name": "python",
   "nbconvert_exporter": "python",
   "pygments_lexer": "ipython3",
   "version": "3.6.5"
  }
 },
 "nbformat": 4,
 "nbformat_minor": 2
}
